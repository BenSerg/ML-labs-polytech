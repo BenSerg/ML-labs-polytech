{
 "cells": [
  {
   "cell_type": "code",
   "execution_count": 1,
   "id": "caac953b-3c37-4e07-842a-0d8ac6c0d956",
   "metadata": {},
   "outputs": [
    {
     "name": "stderr",
     "output_type": "stream",
     "text": [
      "/tmp/ipykernel_10102/1693077525.py:13: TqdmExperimentalWarning: Using `tqdm.autonotebook.tqdm` in notebook mode. Use `tqdm.tqdm` instead to force console mode (e.g. in jupyter console)\n",
      "  from tqdm.autonotebook import tqdm\n"
     ]
    }
   ],
   "source": [
    "import torch\n",
    "import numpy as np\n",
    "import warnings\n",
    "import matplotlib.pyplot as plt\n",
    "import os\n",
    "warnings.filterwarnings('ignore', 'FutureWarning')\n",
    "import torch.nn as nn\n",
    "from torch.nn import functional as F\n",
    "from torch.utils.data import TensorDataset, DataLoader\n",
    "from sklearn.datasets import make_moons\n",
    "from sklearn.model_selection import train_test_split\n",
    "from collections import Counter\n",
    "from tqdm.autonotebook import tqdm\n",
    "from torchmetrics import Accuracy"
   ]
  },
  {
   "cell_type": "code",
   "execution_count": 2,
   "id": "e831fc66-5419-4632-a378-02ee2b9345d5",
   "metadata": {},
   "outputs": [],
   "source": [
    "import pandas as pd\n",
    "import seaborn as sns"
   ]
  },
  {
   "cell_type": "code",
   "execution_count": 3,
   "id": "45ab875c-2ea8-4f6e-84f6-aba8a51469f8",
   "metadata": {},
   "outputs": [],
   "source": [
    "nn_0 = pd.read_csv('task1/nn_0.csv')\n",
    "nn_0.name = 'nn_0'\n",
    "nn_0a = pd.read_csv('task1/nn_0a.csv')\n",
    "nn_0a.name='nn_0a'\n",
    "nn_1 = pd.read_csv('task1/nn_1.csv')\n",
    "nn_1.name = 'nn_1'"
   ]
  },
  {
   "cell_type": "code",
   "execution_count": 4,
   "id": "2898763d-924e-47a6-a3bc-5fb39cb8e302",
   "metadata": {},
   "outputs": [
    {
     "data": {
      "text/plain": [
       "<Axes: xlabel='class', ylabel='count'>"
      ]
     },
     "execution_count": 4,
     "metadata": {},
     "output_type": "execute_result"
    },
    {
     "data": {
      "image/png": "[encoded data removed]",
      "text/plain": [
       "<Figure size 640x480 with 1 Axes>"
      ]
     },
     "metadata": {},
     "output_type": "display_data"
    }
   ],
   "source": [
    "sns.countplot(data=nn_0, x='class')"
   ]
  },
  {
   "cell_type": "code",
   "execution_count": 5,
   "id": "001aad3d-6707-4710-a562-d198469f7673",
   "metadata": {},
   "outputs": [
    {
     "data": {
      "text/plain": [
       "<Axes: xlabel='class', ylabel='count'>"
      ]
     },
     "execution_count": 5,
     "metadata": {},
     "output_type": "execute_result"
    },
    {
     "data": {
      "image/png": "[encoded data removed]",
      "text/plain": [
       "<Figure size 640x480 with 1 Axes>"
      ]
     },
     "metadata": {},
     "output_type": "display_data"
    }
   ],
   "source": [
    "sns.countplot(data=nn_0a, x='class')"
   ]
  },
  {
   "cell_type": "code",
   "execution_count": 6,
   "id": "94eba798-21d5-4b9b-838b-d9a67b3cb13a",
   "metadata": {},
   "outputs": [
    {
     "data": {
      "text/plain": [
       "<Axes: xlabel='class', ylabel='count'>"
      ]
     },
     "execution_count": 6,
     "metadata": {},
     "output_type": "execute_result"
    },
    {
     "data": {
      "image/png": "[encoded data removed]",
      "text/plain": [
       "<Figure size 640x480 with 1 Axes>"
      ]
     },
     "metadata": {},
     "output_type": "display_data"
    }
   ],
   "source": [
    "sns.countplot(data=nn_1, x='class')"
   ]
  },
  {
   "cell_type": "code",
   "execution_count": 7,
   "id": "148f8082-e225-4047-b96d-ec2928a75cd8",
   "metadata": {},
   "outputs": [],
   "source": [
    "BATCH = 16"
   ]
  },
  {
   "cell_type": "code",
   "execution_count": 8,
   "id": "f82ef1b8-fa8e-4f3e-ae83-766ea286ec43",
   "metadata": {},
   "outputs": [],
   "source": [
    "X_0 = nn_0.drop('class', axis=1)\n",
    "y_0 = nn_0['class'].map({-1: 0, 1: 1})\n",
    "X_test = nn_1.drop('class', axis=1)\n",
    "y_test = nn_1['class'].map({-1: 0, 1: 1})"
   ]
  },
  {
   "cell_type": "code",
   "execution_count": 9,
   "id": "436cbeeb-f416-4ed5-b346-a78fb6a2107b",
   "metadata": {},
   "outputs": [],
   "source": [
    "train_X = torch.from_numpy(X_0.to_numpy()).to(torch.float32)\n",
    "train_y = torch.from_numpy(y_0.to_numpy()).to(torch.float32)"
   ]
  },
  {
   "cell_type": "code",
   "execution_count": 10,
   "id": "08e97732-6757-444d-a9db-5c982cf3d29d",
   "metadata": {},
   "outputs": [],
   "source": [
    "test_X = torch.from_numpy(X_test.to_numpy()).to(torch.float32)\n",
    "test_y = torch.from_numpy(y_test.to_numpy()).to(torch.float32)"
   ]
  },
  {
   "cell_type": "code",
   "execution_count": 11,
   "id": "4781d709-17b1-4ebe-993a-c9595ced7e1b",
   "metadata": {},
   "outputs": [],
   "source": [
    "train_dataset = TensorDataset(train_X, train_y)\n",
    "test_dataset = TensorDataset(test_X, test_y)"
   ]
  },
  {
   "cell_type": "code",
   "execution_count": 12,
   "id": "4635f903-4ba3-4edd-abfa-e0d9c9cccbd8",
   "metadata": {},
   "outputs": [],
   "source": [
    "train_loader = DataLoader(train_dataset, batch_size=BATCH)\n",
    "test_loader = DataLoader(test_dataset, batch_size=BATCH)"
   ]
  },
  {
   "cell_type": "code",
   "execution_count": 13,
   "id": "9947f14a-f9eb-462e-9c89-c37464e1bd7f",
   "metadata": {},
   "outputs": [],
   "source": [
    "class Neural_Network(nn.Module):\n",
    "    def __init__(self, in_features, out_features):\n",
    "        super().__init__()\n",
    "        self.lin_linear = nn.Linear(in_features, in_features * 10)\n",
    "        self.lin_linear1 = nn.Linear(in_features * 10, out_features)\n",
    "        self.f = F.relu\n",
    "    \n",
    "    def forward(self, x):\n",
    "        x = self.lin_linear(x)\n",
    "        x = F.relu(x)\n",
    "        x = self.lin_linear1(x)\n",
    "        return x\n",
    "        "
   ]
  },
  {
   "cell_type": "code",
   "execution_count": 14,
   "id": "7e5202a6-2289-44d6-a062-c17988715c23",
   "metadata": {},
   "outputs": [],
   "source": [
    "DEVICE = 'cuda' if torch.cuda.is_available() else 'cpu'"
   ]
  },
  {
   "cell_type": "code",
   "execution_count": 15,
   "id": "b4c7f26d-f7ae-4c46-b9c5-1c98e408bbcb",
   "metadata": {},
   "outputs": [],
   "source": [
    "model = Neural_Network(2, 1)\n",
    "loss_function = nn.BCEWithLogitsLoss()\n",
    "optimizer = torch.optim.Adam(model.parameters(), lr=0.042)\n",
    "model = model.to(DEVICE)\n",
    "accuracy = Accuracy(task=\"binary\").to(DEVICE)\n",
    "losses_train = []\n",
    "total_loss = []\n",
    "acc_val = []\n",
    "MAX_EPOCHS = 100"
   ]
  },
  {
   "cell_type": "code",
   "execution_count": 16,
   "id": "e0c3f335-2686-4fdf-b40f-3dbb658263dc",
   "metadata": {},
   "outputs": [
    {
     "data": {
      "application/vnd.jupyter.widget-view+json": {
       "model_id": "fc5eacdeecdc4e239b904a50c633dbd9",
       "version_major": 2,
       "version_minor": 0
      },
      "text/plain": [
       "  0%|          | 0/100 [00:00<?, ?it/s]"
      ]
     },
     "metadata": {},
     "output_type": "display_data"
    },
    {
     "name": "stdout",
     "output_type": "stream",
     "text": [
      "Accuracy = 0.43 with train = nn_0\n"
     ]
    }
   ],
   "source": [
    "for epoch in tqdm(range(MAX_EPOCHS)):\n",
    "    for iteration, (X_batch, y_batch) in enumerate(train_loader):\n",
    "        model.train()\n",
    "        optimizer.zero_grad()\n",
    "\n",
    "        outputs = model(X_batch.to(DEVICE))\n",
    "        outputs = outputs.view(-1)\n",
    "        loss = loss_function(outputs, y_batch.to(DEVICE))\n",
    "        loss.backward()\n",
    "\n",
    "        losses_train.append(loss.detach().cpu().numpy().item())\n",
    "        optimizer.step()\n",
    "    total_loss.append(np.mean(losses_train))\n",
    "\n",
    "for iteration, (X_batch, y_batch) in enumerate(test_loader):\n",
    "    model.eval()\n",
    "\n",
    "    with torch.no_grad():\n",
    "        outputs = model(X_batch.to(DEVICE))\n",
    "        outputs = outputs.view(-1)\n",
    "        loss = loss_function(outputs, y_batch.to(DEVICE))\n",
    "        proba = torch.sigmoid(outputs)\n",
    "        batch_acc = accuracy(proba, y_batch.to(torch.int32).to(DEVICE))\n",
    "        acc_val.append(batch_acc.detach().cpu().numpy().item())\n",
    "acc = np.mean(acc_val)\n",
    "print(f'Accuracy = {acc:.2f} with train = {nn_0.name}')"
   ]
  },
  {
   "cell_type": "code",
   "execution_count": 17,
   "id": "2f5e6b34-9014-4588-8552-6362d62c4ed4",
   "metadata": {},
   "outputs": [],
   "source": [
    "import torchvision\n",
    "trans = torchvision.transforms.Compose([torchvision.transforms.ToTensor()])\n",
    "mnist = torchvision.datasets.MNIST(root='./data', download=True, transform=trans)"
   ]
  },
  {
   "cell_type": "code",
   "execution_count": 18,
   "id": "543c0820-cdc1-4320-8908-5831460cfbb3",
   "metadata": {},
   "outputs": [],
   "source": [
    "mnist_dataloader = DataLoader(mnist, shuffle=True, batch_size=16, num_workers=1, drop_last=True)"
   ]
  },
  {
   "cell_type": "code",
   "execution_count": 19,
   "id": "d52b0f44-caf3-4e36-9db2-34cec232e99a",
   "metadata": {},
   "outputs": [],
   "source": [
    "class Neural_Numbers(nn.Module):\n",
    "    def __init__(self):\n",
    "        super().__init__()\n",
    "        self.flatten = nn.Flatten()\n",
    "        self.linear1 = nn.Linear(28 * 28, 100)\n",
    "        self.linear2 = nn.Linear(100, 10)\n",
    "        self.act = F.relu\n",
    "\n",
    "    def forward(self, x):\n",
    "        out = self.flatten(x)\n",
    "        out = self.linear1(out)\n",
    "        out = self.act(out)\n",
    "        out = self.linear2(out)\n",
    "        return out"
   ]
  },
  {
   "cell_type": "code",
   "execution_count": 20,
   "id": "c05298ad-7ce3-47b7-8e89-9c71ed71051c",
   "metadata": {},
   "outputs": [],
   "source": [
    "loss_fn = nn.CrossEntropyLoss()\n",
    "model = Neural_Numbers()\n",
    "optimizer = torch.optim.SGD(model.parameters(), lr=1e-3, momentum=0.9)\n",
    "def accuracy(pred, label):\n",
    "    answer = F.softmax(pred.detach()).numpy().argmax(1) == label.numpy().argmax(1)\n",
    "    return answer.mean()"
   ]
  },
  {
   "cell_type": "code",
   "execution_count": 21,
   "id": "9981fe97-9bbb-4661-9aa5-10e6ab95366e",
   "metadata": {},
   "outputs": [
    {
     "data": {
      "application/vnd.jupyter.widget-view+json": {
       "model_id": "2d3c9ca489204c309a45656841c389f3",
       "version_major": 2,
       "version_minor": 0
      },
      "text/plain": [
       "  0%|          | 0/3750 [00:00<?, ?it/s]"
      ]
     },
     "metadata": {},
     "output_type": "display_data"
    },
    {
     "name": "stderr",
     "output_type": "stream",
     "text": [
      "/tmp/ipykernel_10102/2946782038.py:5: UserWarning: Implicit dimension choice for softmax has been deprecated. Change the call to include dim=X as an argument.\n",
      "  answer = F.softmax(pred.detach()).numpy().argmax(1) == label.numpy().argmax(1)\n"
     ]
    },
    {
     "name": "stdout",
     "output_type": "stream",
     "text": [
      "0.6424717048039039\n",
      "0.8434833333333334\n"
     ]
    },
    {
     "data": {
      "application/vnd.jupyter.widget-view+json": {
       "model_id": "89d662b6402e4a429abcf377e9b0b137",
       "version_major": 2,
       "version_minor": 0
      },
      "text/plain": [
       "  0%|          | 0/3750 [00:00<?, ?it/s]"
      ]
     },
     "metadata": {},
     "output_type": "display_data"
    },
    {
     "name": "stdout",
     "output_type": "stream",
     "text": [
      "0.31208391602039337\n",
      "0.9113\n"
     ]
    },
    {
     "data": {
      "application/vnd.jupyter.widget-view+json": {
       "model_id": "6bb9f6820f05495ab48580d041c9adda",
       "version_major": 2,
       "version_minor": 0
      },
      "text/plain": [
       "  0%|          | 0/3750 [00:00<?, ?it/s]"
      ]
     },
     "metadata": {},
     "output_type": "display_data"
    },
    {
     "name": "stdout",
     "output_type": "stream",
     "text": [
      "0.26428414578040443\n",
      "0.9249666666666667\n"
     ]
    },
    {
     "data": {
      "application/vnd.jupyter.widget-view+json": {
       "model_id": "ad41dd96ae6a4b3598693794df561ccc",
       "version_major": 2,
       "version_minor": 0
      },
      "text/plain": [
       "  0%|          | 0/3750 [00:00<?, ?it/s]"
      ]
     },
     "metadata": {},
     "output_type": "display_data"
    },
    {
     "name": "stdout",
     "output_type": "stream",
     "text": [
      "0.23068767908538382\n",
      "0.9354666666666667\n"
     ]
    },
    {
     "data": {
      "application/vnd.jupyter.widget-view+json": {
       "model_id": "d6445b606e574681aa7a6c7b8e00853b",
       "version_major": 2,
       "version_minor": 0
      },
      "text/plain": [
       "  0%|          | 0/3750 [00:00<?, ?it/s]"
      ]
     },
     "metadata": {},
     "output_type": "display_data"
    },
    {
     "name": "stdout",
     "output_type": "stream",
     "text": [
      "0.2046182711776346\n",
      "0.9422666666666667\n"
     ]
    },
    {
     "data": {
      "application/vnd.jupyter.widget-view+json": {
       "model_id": "4cd44fdd4b314782928727fb25be4491",
       "version_major": 2,
       "version_minor": 0
      },
      "text/plain": [
       "  0%|          | 0/3750 [00:00<?, ?it/s]"
      ]
     },
     "metadata": {},
     "output_type": "display_data"
    },
    {
     "name": "stdout",
     "output_type": "stream",
     "text": [
      "0.18275071194556852\n",
      "0.9482166666666667\n"
     ]
    },
    {
     "data": {
      "application/vnd.jupyter.widget-view+json": {
       "model_id": "492b0568bb3a4ad3811df469a62d0379",
       "version_major": 2,
       "version_minor": 0
      },
      "text/plain": [
       "  0%|          | 0/3750 [00:00<?, ?it/s]"
      ]
     },
     "metadata": {},
     "output_type": "display_data"
    },
    {
     "name": "stdout",
     "output_type": "stream",
     "text": [
      "0.16541106550917029\n",
      "0.95285\n"
     ]
    },
    {
     "data": {
      "application/vnd.jupyter.widget-view+json": {
       "model_id": "0af992b80c8640a6886dcb4aa1ab013e",
       "version_major": 2,
       "version_minor": 0
      },
      "text/plain": [
       "  0%|          | 0/3750 [00:00<?, ?it/s]"
      ]
     },
     "metadata": {},
     "output_type": "display_data"
    },
    {
     "name": "stdout",
     "output_type": "stream",
     "text": [
      "0.15103692863894005\n",
      "0.9565333333333333\n"
     ]
    },
    {
     "data": {
      "application/vnd.jupyter.widget-view+json": {
       "model_id": "915181983d004d45b95c061e9e6d7b0e",
       "version_major": 2,
       "version_minor": 0
      },
      "text/plain": [
       "  0%|          | 0/3750 [00:00<?, ?it/s]"
      ]
     },
     "metadata": {},
     "output_type": "display_data"
    },
    {
     "name": "stdout",
     "output_type": "stream",
     "text": [
      "0.13868423370420932\n",
      "0.96005\n"
     ]
    },
    {
     "data": {
      "application/vnd.jupyter.widget-view+json": {
       "model_id": "5e08e75dc94647abb3a5d2be43ef7d61",
       "version_major": 2,
       "version_minor": 0
      },
      "text/plain": [
       "  0%|          | 0/3750 [00:00<?, ?it/s]"
      ]
     },
     "metadata": {},
     "output_type": "display_data"
    },
    {
     "name": "stdout",
     "output_type": "stream",
     "text": [
      "0.12794244477010022\n",
      "0.9637833333333333\n"
     ]
    }
   ],
   "source": [
    "epochs = 10\n",
    "for epoch in range(epochs):\n",
    "    loss_val = 0\n",
    "    acc_val = 0\n",
    "    for img, label in (pbar := tqdm(mnist_dataloader)):\n",
    "        optimizer.zero_grad()\n",
    "\n",
    "        label = F.one_hot(label, 10).float()\n",
    "        pred = model(img)\n",
    "\n",
    "        loss = loss_fn(pred, label)\n",
    "        loss.backward()\n",
    "        loss_item = loss.item()\n",
    "        loss_val += loss_item\n",
    "        \n",
    "        optimizer.step()\n",
    "        acc_current = accuracy(pred, label)\n",
    "        acc_val += acc_current\n",
    "        pbar.set_description(f'loss: {loss_item:4e}\\taccuracy: {acc_current:.3f}')\n",
    "        \n",
    "    print(loss_val / len(mnist_dataloader))\n",
    "    print(acc_val / len(mnist_dataloader))"
   ]
  },
  {
   "cell_type": "code",
   "execution_count": 22,
   "id": "88d381ef-f264-448c-b18b-99ed90d39563",
   "metadata": {},
   "outputs": [
    {
     "name": "stderr",
     "output_type": "stream",
     "text": [
      "/tmp/ipykernel_10102/3051273281.py:9: UserWarning: Implicit dimension choice for softmax has been deprecated. Change the call to include dim=X as an argument.\n",
      "  F.softmax(pred).detach().numpy().argmax()\n"
     ]
    },
    {
     "data": {
      "text/plain": [
       "3"
      ]
     },
     "execution_count": 22,
     "metadata": {},
     "output_type": "execute_result"
    }
   ],
   "source": [
    "import cv2\n",
    "img = cv2.imread('test.png', cv2.IMREAD_GRAYSCALE)\n",
    "img = np.expand_dims(img, axis=0)\n",
    "img = np.expand_dims(img, axis=0)\n",
    "img = img.astype(np.float32)/255.0\n",
    "\n",
    "t_img = torch.from_numpy(img)\n",
    "pred = model(t_img)\n",
    "F.softmax(pred).detach().numpy().argmax()"
   ]
  },
  {
   "cell_type": "code",
   "execution_count": null,
   "id": "1090ff1d-cdc8-4a45-8727-2ad03ee2027e",
   "metadata": {},
   "outputs": [],
   "source": []
  }
 ],
 "metadata": {
  "kernelspec": {
   "display_name": "Python 3 (ipykernel)",
   "language": "python",
   "name": "python3"
  },
  "language_info": {
   "codemirror_mode": {
    "name": "ipython",
    "version": 3
   },
   "file_extension": ".py",
   "mimetype": "text/x-python",
   "name": "python",
   "nbconvert_exporter": "python",
   "pygments_lexer": "ipython3",
   "version": "3.11.8"
  }
 },
 "nbformat": 4,
 "nbformat_minor": 5
}
