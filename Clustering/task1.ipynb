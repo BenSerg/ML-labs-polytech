{
 "cells": [
  {
   "cell_type": "code",
   "execution_count": 1,
   "id": "93c98c33-bde7-4b8e-802f-cedab66407d8",
   "metadata": {},
   "outputs": [],
   "source": [
    "import pandas as pd\n",
    "import numpy as np\n",
    "import seaborn as sns\n",
    "import matplotlib.pyplot as plt"
   ]
  },
  {
   "cell_type": "code",
   "execution_count": 2,
   "id": "f0a521c6-fc71-440e-8393-fb70fef8c6d6",
   "metadata": {},
   "outputs": [],
   "source": [
    "df = pd.read_csv('pluton.csv')"
   ]
  },
  {
   "cell_type": "code",
   "execution_count": 3,
   "id": "e9cca979-fa95-46f5-b720-044e9288e79e",
   "metadata": {},
   "outputs": [
    {
     "data": {
      "text/html": [
       "<div>\n",
       "<style scoped>\n",
       "    .dataframe tbody tr th:only-of-type {\n",
       "        vertical-align: middle;\n",
       "    }\n",
       "\n",
       "    .dataframe tbody tr th {\n",
       "        vertical-align: top;\n",
       "    }\n",
       "\n",
       "    .dataframe thead th {\n",
       "        text-align: right;\n",
       "    }\n",
       "</style>\n",
       "<table border=\"1\" class=\"dataframe\">\n",
       "  <thead>\n",
       "    <tr style=\"text-align: right;\">\n",
       "      <th></th>\n",
       "      <th>Pu238</th>\n",
       "      <th>Pu239</th>\n",
       "      <th>Pu240</th>\n",
       "      <th>Pu241</th>\n",
       "    </tr>\n",
       "  </thead>\n",
       "  <tbody>\n",
       "    <tr>\n",
       "      <th>0</th>\n",
       "      <td>0.126</td>\n",
       "      <td>75.804</td>\n",
       "      <td>21.204</td>\n",
       "      <td>2.180</td>\n",
       "    </tr>\n",
       "    <tr>\n",
       "      <th>1</th>\n",
       "      <td>0.133</td>\n",
       "      <td>75.515</td>\n",
       "      <td>21.408</td>\n",
       "      <td>2.240</td>\n",
       "    </tr>\n",
       "    <tr>\n",
       "      <th>2</th>\n",
       "      <td>0.127</td>\n",
       "      <td>75.175</td>\n",
       "      <td>21.668</td>\n",
       "      <td>2.305</td>\n",
       "    </tr>\n",
       "    <tr>\n",
       "      <th>3</th>\n",
       "      <td>0.156</td>\n",
       "      <td>78.872</td>\n",
       "      <td>18.428</td>\n",
       "      <td>1.906</td>\n",
       "    </tr>\n",
       "    <tr>\n",
       "      <th>4</th>\n",
       "      <td>0.503</td>\n",
       "      <td>73.317</td>\n",
       "      <td>20.223</td>\n",
       "      <td>4.128</td>\n",
       "    </tr>\n",
       "  </tbody>\n",
       "</table>\n",
       "</div>"
      ],
      "text/plain": [
       "   Pu238   Pu239   Pu240  Pu241\n",
       "0  0.126  75.804  21.204  2.180\n",
       "1  0.133  75.515  21.408  2.240\n",
       "2  0.127  75.175  21.668  2.305\n",
       "3  0.156  78.872  18.428  1.906\n",
       "4  0.503  73.317  20.223  4.128"
      ]
     },
     "execution_count": 3,
     "metadata": {},
     "output_type": "execute_result"
    }
   ],
   "source": [
    "df.head()"
   ]
  },
  {
   "cell_type": "code",
   "execution_count": 4,
   "id": "47f2fe0b-c894-47e7-8ce7-54567d32c23a",
   "metadata": {},
   "outputs": [
    {
     "name": "stdout",
     "output_type": "stream",
     "text": [
      "<class 'pandas.core.frame.DataFrame'>\n",
      "RangeIndex: 45 entries, 0 to 44\n",
      "Data columns (total 4 columns):\n",
      " #   Column  Non-Null Count  Dtype  \n",
      "---  ------  --------------  -----  \n",
      " 0   Pu238   45 non-null     float64\n",
      " 1   Pu239   45 non-null     float64\n",
      " 2   Pu240   45 non-null     float64\n",
      " 3   Pu241   45 non-null     float64\n",
      "dtypes: float64(4)\n",
      "memory usage: 1.5 KB\n"
     ]
    }
   ],
   "source": [
    "df.info()"
   ]
  },
  {
   "cell_type": "code",
   "execution_count": 5,
   "id": "0185c6b0-7d48-47d0-bc65-316c80e02ddb",
   "metadata": {},
   "outputs": [
    {
     "data": {
      "text/html": [
       "<div>\n",
       "<style scoped>\n",
       "    .dataframe tbody tr th:only-of-type {\n",
       "        vertical-align: middle;\n",
       "    }\n",
       "\n",
       "    .dataframe tbody tr th {\n",
       "        vertical-align: top;\n",
       "    }\n",
       "\n",
       "    .dataframe thead th {\n",
       "        text-align: right;\n",
       "    }\n",
       "</style>\n",
       "<table border=\"1\" class=\"dataframe\">\n",
       "  <thead>\n",
       "    <tr style=\"text-align: right;\">\n",
       "      <th></th>\n",
       "      <th>Pu238</th>\n",
       "      <th>Pu239</th>\n",
       "      <th>Pu240</th>\n",
       "      <th>Pu241</th>\n",
       "    </tr>\n",
       "  </thead>\n",
       "  <tbody>\n",
       "    <tr>\n",
       "      <th>count</th>\n",
       "      <td>45.000000</td>\n",
       "      <td>45.000000</td>\n",
       "      <td>45.000000</td>\n",
       "      <td>45.000000</td>\n",
       "    </tr>\n",
       "    <tr>\n",
       "      <th>mean</th>\n",
       "      <td>0.721622</td>\n",
       "      <td>69.934689</td>\n",
       "      <td>21.533489</td>\n",
       "      <td>5.329822</td>\n",
       "    </tr>\n",
       "    <tr>\n",
       "      <th>std</th>\n",
       "      <td>0.574343</td>\n",
       "      <td>7.133270</td>\n",
       "      <td>2.411510</td>\n",
       "      <td>3.016408</td>\n",
       "    </tr>\n",
       "    <tr>\n",
       "      <th>min</th>\n",
       "      <td>0.102000</td>\n",
       "      <td>58.688000</td>\n",
       "      <td>17.872000</td>\n",
       "      <td>1.674000</td>\n",
       "    </tr>\n",
       "    <tr>\n",
       "      <th>25%</th>\n",
       "      <td>0.162000</td>\n",
       "      <td>61.585000</td>\n",
       "      <td>19.108000</td>\n",
       "      <td>2.365000</td>\n",
       "    </tr>\n",
       "    <tr>\n",
       "      <th>50%</th>\n",
       "      <td>0.397000</td>\n",
       "      <td>72.907000</td>\n",
       "      <td>21.429000</td>\n",
       "      <td>3.836000</td>\n",
       "    </tr>\n",
       "    <tr>\n",
       "      <th>75%</th>\n",
       "      <td>1.309000</td>\n",
       "      <td>75.751000</td>\n",
       "      <td>23.239000</td>\n",
       "      <td>8.300000</td>\n",
       "    </tr>\n",
       "    <tr>\n",
       "      <th>max</th>\n",
       "      <td>1.638000</td>\n",
       "      <td>79.840000</td>\n",
       "      <td>25.719000</td>\n",
       "      <td>9.972000</td>\n",
       "    </tr>\n",
       "  </tbody>\n",
       "</table>\n",
       "</div>"
      ],
      "text/plain": [
       "           Pu238      Pu239      Pu240      Pu241\n",
       "count  45.000000  45.000000  45.000000  45.000000\n",
       "mean    0.721622  69.934689  21.533489   5.329822\n",
       "std     0.574343   7.133270   2.411510   3.016408\n",
       "min     0.102000  58.688000  17.872000   1.674000\n",
       "25%     0.162000  61.585000  19.108000   2.365000\n",
       "50%     0.397000  72.907000  21.429000   3.836000\n",
       "75%     1.309000  75.751000  23.239000   8.300000\n",
       "max     1.638000  79.840000  25.719000   9.972000"
      ]
     },
     "execution_count": 5,
     "metadata": {},
     "output_type": "execute_result"
    }
   ],
   "source": [
    "df.describe()"
   ]
  },
  {
   "cell_type": "code",
   "execution_count": 6,
   "id": "373da731-ec21-48c2-9468-3380714b1c4b",
   "metadata": {},
   "outputs": [
    {
     "data": {
      "text/plain": [
       "<Axes: >"
      ]
     },
     "execution_count": 6,
     "metadata": {},
     "output_type": "execute_result"
    },
    {
     "data": {
      "image/png": "[encoded data removed]",
      "text/plain": [
       "<Figure size 640x480 with 2 Axes>"
      ]
     },
     "metadata": {},
     "output_type": "display_data"
    }
   ],
   "source": [
    "sns.heatmap(data=df.corr(numeric_only=True), annot=True, fmt='.2f', cmap='Blues')"
   ]
  },
  {
   "cell_type": "code",
   "execution_count": 7,
   "id": "8e40618b-0457-4a7b-b49f-bb73a3f27db3",
   "metadata": {},
   "outputs": [],
   "source": [
    "from sklearn.preprocessing import StandardScaler\n",
    "from sklearn.cluster import KMeans"
   ]
  },
  {
   "cell_type": "code",
   "execution_count": 8,
   "id": "cf3aecdd-1ce9-4c46-b981-6fc78a35bede",
   "metadata": {},
   "outputs": [],
   "source": [
    "scaler = StandardScaler()"
   ]
  },
  {
   "cell_type": "code",
   "execution_count": 9,
   "id": "0615a8e9-08f6-4bdf-ae97-3a254244c45b",
   "metadata": {},
   "outputs": [],
   "source": [
    "X = df"
   ]
  },
  {
   "cell_type": "code",
   "execution_count": 10,
   "id": "082199db-251a-493e-a302-f8d293edc095",
   "metadata": {},
   "outputs": [],
   "source": [
    "scaled_X = scaler.fit_transform(X)"
   ]
  },
  {
   "cell_type": "code",
   "execution_count": 11,
   "id": "c9565934-dba6-4353-be4e-fbda71b05872",
   "metadata": {},
   "outputs": [],
   "source": [
    "model = KMeans(n_clusters=3)"
   ]
  },
  {
   "cell_type": "code",
   "execution_count": 12,
   "id": "ede18fa9-917b-4dd2-bdf6-381759750cd6",
   "metadata": {},
   "outputs": [],
   "source": [
    "cluster_labels = model.fit_predict(scaled_X)"
   ]
  },
  {
   "cell_type": "code",
   "execution_count": 13,
   "id": "f908edb6-9985-43f8-8f09-f29b190bf0da",
   "metadata": {},
   "outputs": [],
   "source": [
    "df['cluster'] = model.labels_"
   ]
  },
  {
   "cell_type": "code",
   "execution_count": 14,
   "id": "b9b849fa-f7b4-4ac3-8f68-6cbc21f4aa3f",
   "metadata": {},
   "outputs": [
    {
     "data": {
      "text/html": [
       "<div>\n",
       "<style scoped>\n",
       "    .dataframe tbody tr th:only-of-type {\n",
       "        vertical-align: middle;\n",
       "    }\n",
       "\n",
       "    .dataframe tbody tr th {\n",
       "        vertical-align: top;\n",
       "    }\n",
       "\n",
       "    .dataframe thead th {\n",
       "        text-align: right;\n",
       "    }\n",
       "</style>\n",
       "<table border=\"1\" class=\"dataframe\">\n",
       "  <thead>\n",
       "    <tr style=\"text-align: right;\">\n",
       "      <th></th>\n",
       "      <th>Pu238</th>\n",
       "      <th>Pu239</th>\n",
       "      <th>Pu240</th>\n",
       "      <th>Pu241</th>\n",
       "      <th>cluster</th>\n",
       "    </tr>\n",
       "  </thead>\n",
       "  <tbody>\n",
       "    <tr>\n",
       "      <th>0</th>\n",
       "      <td>0.126</td>\n",
       "      <td>75.804</td>\n",
       "      <td>21.204</td>\n",
       "      <td>2.180</td>\n",
       "      <td>0</td>\n",
       "    </tr>\n",
       "    <tr>\n",
       "      <th>1</th>\n",
       "      <td>0.133</td>\n",
       "      <td>75.515</td>\n",
       "      <td>21.408</td>\n",
       "      <td>2.240</td>\n",
       "      <td>0</td>\n",
       "    </tr>\n",
       "    <tr>\n",
       "      <th>2</th>\n",
       "      <td>0.127</td>\n",
       "      <td>75.175</td>\n",
       "      <td>21.668</td>\n",
       "      <td>2.305</td>\n",
       "      <td>0</td>\n",
       "    </tr>\n",
       "    <tr>\n",
       "      <th>3</th>\n",
       "      <td>0.156</td>\n",
       "      <td>78.872</td>\n",
       "      <td>18.428</td>\n",
       "      <td>1.906</td>\n",
       "      <td>0</td>\n",
       "    </tr>\n",
       "    <tr>\n",
       "      <th>4</th>\n",
       "      <td>0.503</td>\n",
       "      <td>73.317</td>\n",
       "      <td>20.223</td>\n",
       "      <td>4.128</td>\n",
       "      <td>0</td>\n",
       "    </tr>\n",
       "  </tbody>\n",
       "</table>\n",
       "</div>"
      ],
      "text/plain": [
       "   Pu238   Pu239   Pu240  Pu241  cluster\n",
       "0  0.126  75.804  21.204  2.180        0\n",
       "1  0.133  75.515  21.408  2.240        0\n",
       "2  0.127  75.175  21.668  2.305        0\n",
       "3  0.156  78.872  18.428  1.906        0\n",
       "4  0.503  73.317  20.223  4.128        0"
      ]
     },
     "execution_count": 14,
     "metadata": {},
     "output_type": "execute_result"
    }
   ],
   "source": [
    "X.head()"
   ]
  },
  {
   "cell_type": "code",
   "execution_count": 15,
   "id": "d956872f-3663-4e61-a6e5-e5375bc7eb81",
   "metadata": {},
   "outputs": [
    {
     "data": {
      "text/plain": [
       "<Axes: xlabel='Pu238', ylabel='Pu239'>"
      ]
     },
     "execution_count": 15,
     "metadata": {},
     "output_type": "execute_result"
    },
    {
     "data": {
      "image/png": "[encoded data removed]",
      "text/plain": [
       "<Figure size 640x480 with 1 Axes>"
      ]
     },
     "metadata": {},
     "output_type": "display_data"
    }
   ],
   "source": [
    "sns.scatterplot(x='Pu238', y='Pu239', data=df, hue='cluster')"
   ]
  },
  {
   "cell_type": "code",
   "execution_count": 16,
   "id": "769ea290-e3ca-463e-ab5d-034277750a04",
   "metadata": {},
   "outputs": [
    {
     "data": {
      "text/plain": [
       "<Axes: xlabel='Pu239', ylabel='Pu240'>"
      ]
     },
     "execution_count": 16,
     "metadata": {},
     "output_type": "execute_result"
    },
    {
     "data": {
      "image/png": "[encoded data removed]",
      "text/plain": [
       "<Figure size 640x480 with 1 Axes>"
      ]
     },
     "metadata": {},
     "output_type": "display_data"
    }
   ],
   "source": [
    "sns.scatterplot(x='Pu239', y='Pu240', data=df, hue='cluster')"
   ]
  },
  {
   "cell_type": "code",
   "execution_count": 17,
   "id": "28dfa9e0-fbfc-40ec-afee-34ff70e33fed",
   "metadata": {},
   "outputs": [],
   "source": [
    "from sklearn.metrics import silhouette_score"
   ]
  },
  {
   "cell_type": "code",
   "execution_count": 18,
   "id": "b48e717c-c269-492e-9140-4e99338ec1e7",
   "metadata": {},
   "outputs": [
    {
     "data": {
      "text/plain": [
       "0.6987373638905686"
      ]
     },
     "execution_count": 18,
     "metadata": {},
     "output_type": "execute_result"
    }
   ],
   "source": [
    "silhouette_score(scaled_X, model.predict(scaled_X))"
   ]
  },
  {
   "cell_type": "code",
   "execution_count": 23,
   "id": "332294cb-11be-4d69-9107-752f1f51863b",
   "metadata": {},
   "outputs": [
    {
     "name": "stdout",
     "output_type": "stream",
     "text": [
      "Max iter=100, data=scaled, silhoutte=0.4906442439691422\n",
      "Max iter=100, data=default, silhoutte=0.6782467064358733\n",
      "Max iter=300, data=scaled, silhoutte=0.6987373638905686\n",
      "Max iter=300, data=default, silhoutte=0.5290568473933865\n",
      "Max iter=500, data=scaled, silhoutte=0.6987373638905686\n",
      "Max iter=500, data=default, silhoutte=0.6782467064358733\n",
      "Max iter=1000, data=scaled, silhoutte=0.6987373638905686\n",
      "Max iter=1000, data=default, silhoutte=0.6782467064358733\n",
      "Max iter=5000, data=scaled, silhoutte=0.6987373638905686\n",
      "Max iter=5000, data=default, silhoutte=0.6782467064358733\n",
      "Max iter=10000, data=scaled, silhoutte=0.6987373638905686\n",
      "Max iter=10000, data=default, silhoutte=0.6782467064358733\n"
     ]
    }
   ],
   "source": [
    "max_iter = [100, 300, 500, 1000, 5000, 10000]\n",
    "data = {'scaled': scaled_X, 'default': X}\n",
    "for i in max_iter:\n",
    "    for j in data:\n",
    "        model = KMeans(n_clusters=3, max_iter=i)\n",
    "        model.fit_transform(data[j])\n",
    "        print(f'Max iter={i}, data={j}, silhoutte={silhouette_score(data[j], model.predict(data[j]))}')"
   ]
  },
  {
   "cell_type": "code",
   "execution_count": null,
   "id": "f3a1a902-8ff4-4ac1-a7c8-3eab5f41673f",
   "metadata": {},
   "outputs": [],
   "source": []
  }
 ],
 "metadata": {
  "kernelspec": {
   "display_name": "Python 3 (ipykernel)",
   "language": "python",
   "name": "python3"
  },
  "language_info": {
   "codemirror_mode": {
    "name": "ipython",
    "version": 3
   },
   "file_extension": ".py",
   "mimetype": "text/x-python",
   "name": "python",
   "nbconvert_exporter": "python",
   "pygments_lexer": "ipython3",
   "version": "3.11.8"
  }
 },
 "nbformat": 4,
 "nbformat_minor": 5
}
