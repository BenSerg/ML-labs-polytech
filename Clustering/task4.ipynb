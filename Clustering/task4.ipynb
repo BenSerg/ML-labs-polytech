{
 "cells": [
  {
   "cell_type": "code",
   "execution_count": 6,
   "id": "82ce6e89-5499-4f72-83e4-b12b6a2d9b60",
   "metadata": {},
   "outputs": [],
   "source": [
    "import numpy as np\n",
    "import pandas as pd\n",
    "import matplotlib.pyplot as plt\n",
    "import seaborn as sns"
   ]
  },
  {
   "cell_type": "code",
   "execution_count": 7,
   "id": "3168aa15-4b30-4dc1-bb6b-29dd53fca803",
   "metadata": {},
   "outputs": [],
   "source": [
    "df = pd.read_csv('votes.csv')"
   ]
  },
  {
   "cell_type": "code",
   "execution_count": 8,
   "id": "2d5b80ba-c4ae-412c-a17b-e02a00f22ff5",
   "metadata": {},
   "outputs": [
    {
     "data": {
      "text/html": [
       "<div>\n",
       "<style scoped>\n",
       "    .dataframe tbody tr th:only-of-type {\n",
       "        vertical-align: middle;\n",
       "    }\n",
       "\n",
       "    .dataframe tbody tr th {\n",
       "        vertical-align: top;\n",
       "    }\n",
       "\n",
       "    .dataframe thead th {\n",
       "        text-align: right;\n",
       "    }\n",
       "</style>\n",
       "<table border=\"1\" class=\"dataframe\">\n",
       "  <thead>\n",
       "    <tr style=\"text-align: right;\">\n",
       "      <th></th>\n",
       "      <th>X1856</th>\n",
       "      <th>X1860</th>\n",
       "      <th>X1864</th>\n",
       "      <th>X1868</th>\n",
       "      <th>X1872</th>\n",
       "      <th>X1876</th>\n",
       "      <th>X1880</th>\n",
       "      <th>X1884</th>\n",
       "      <th>X1888</th>\n",
       "      <th>X1892</th>\n",
       "      <th>...</th>\n",
       "      <th>X1940</th>\n",
       "      <th>X1944</th>\n",
       "      <th>X1948</th>\n",
       "      <th>X1952</th>\n",
       "      <th>X1956</th>\n",
       "      <th>X1960</th>\n",
       "      <th>X1964</th>\n",
       "      <th>X1968</th>\n",
       "      <th>X1972</th>\n",
       "      <th>X1976</th>\n",
       "    </tr>\n",
       "  </thead>\n",
       "  <tbody>\n",
       "    <tr>\n",
       "      <th>0</th>\n",
       "      <td>NaN</td>\n",
       "      <td>NaN</td>\n",
       "      <td>NaN</td>\n",
       "      <td>51.44</td>\n",
       "      <td>53.19</td>\n",
       "      <td>40.02</td>\n",
       "      <td>36.98</td>\n",
       "      <td>38.44</td>\n",
       "      <td>32.28</td>\n",
       "      <td>3.95</td>\n",
       "      <td>...</td>\n",
       "      <td>14.34</td>\n",
       "      <td>18.20</td>\n",
       "      <td>19.04</td>\n",
       "      <td>35.02</td>\n",
       "      <td>39.39</td>\n",
       "      <td>41.75</td>\n",
       "      <td>69.5</td>\n",
       "      <td>14.0</td>\n",
       "      <td>72.4</td>\n",
       "      <td>43.48</td>\n",
       "    </tr>\n",
       "    <tr>\n",
       "      <th>1</th>\n",
       "      <td>NaN</td>\n",
       "      <td>NaN</td>\n",
       "      <td>NaN</td>\n",
       "      <td>NaN</td>\n",
       "      <td>NaN</td>\n",
       "      <td>NaN</td>\n",
       "      <td>NaN</td>\n",
       "      <td>NaN</td>\n",
       "      <td>NaN</td>\n",
       "      <td>NaN</td>\n",
       "      <td>...</td>\n",
       "      <td>NaN</td>\n",
       "      <td>NaN</td>\n",
       "      <td>NaN</td>\n",
       "      <td>NaN</td>\n",
       "      <td>NaN</td>\n",
       "      <td>50.94</td>\n",
       "      <td>34.1</td>\n",
       "      <td>45.3</td>\n",
       "      <td>58.1</td>\n",
       "      <td>62.91</td>\n",
       "    </tr>\n",
       "    <tr>\n",
       "      <th>2</th>\n",
       "      <td>NaN</td>\n",
       "      <td>NaN</td>\n",
       "      <td>NaN</td>\n",
       "      <td>NaN</td>\n",
       "      <td>NaN</td>\n",
       "      <td>NaN</td>\n",
       "      <td>NaN</td>\n",
       "      <td>NaN</td>\n",
       "      <td>NaN</td>\n",
       "      <td>NaN</td>\n",
       "      <td>...</td>\n",
       "      <td>36.01</td>\n",
       "      <td>40.90</td>\n",
       "      <td>43.82</td>\n",
       "      <td>58.35</td>\n",
       "      <td>60.99</td>\n",
       "      <td>55.52</td>\n",
       "      <td>50.4</td>\n",
       "      <td>54.8</td>\n",
       "      <td>64.7</td>\n",
       "      <td>58.62</td>\n",
       "    </tr>\n",
       "    <tr>\n",
       "      <th>3</th>\n",
       "      <td>NaN</td>\n",
       "      <td>NaN</td>\n",
       "      <td>NaN</td>\n",
       "      <td>53.73</td>\n",
       "      <td>52.17</td>\n",
       "      <td>39.88</td>\n",
       "      <td>39.55</td>\n",
       "      <td>40.50</td>\n",
       "      <td>38.07</td>\n",
       "      <td>32.01</td>\n",
       "      <td>...</td>\n",
       "      <td>20.87</td>\n",
       "      <td>29.84</td>\n",
       "      <td>21.02</td>\n",
       "      <td>43.76</td>\n",
       "      <td>45.82</td>\n",
       "      <td>43.06</td>\n",
       "      <td>43.9</td>\n",
       "      <td>30.8</td>\n",
       "      <td>68.9</td>\n",
       "      <td>34.97</td>\n",
       "    </tr>\n",
       "    <tr>\n",
       "      <th>4</th>\n",
       "      <td>18.77</td>\n",
       "      <td>32.96</td>\n",
       "      <td>58.63</td>\n",
       "      <td>50.24</td>\n",
       "      <td>56.38</td>\n",
       "      <td>50.88</td>\n",
       "      <td>48.92</td>\n",
       "      <td>52.08</td>\n",
       "      <td>49.95</td>\n",
       "      <td>43.76</td>\n",
       "      <td>...</td>\n",
       "      <td>41.35</td>\n",
       "      <td>42.99</td>\n",
       "      <td>47.14</td>\n",
       "      <td>56.39</td>\n",
       "      <td>55.40</td>\n",
       "      <td>50.10</td>\n",
       "      <td>40.9</td>\n",
       "      <td>47.8</td>\n",
       "      <td>55.0</td>\n",
       "      <td>50.89</td>\n",
       "    </tr>\n",
       "  </tbody>\n",
       "</table>\n",
       "<p>5 rows × 31 columns</p>\n",
       "</div>"
      ],
      "text/plain": [
       "   X1856  X1860  X1864  X1868  X1872  X1876  X1880  X1884  X1888  X1892  ...  \\\n",
       "0    NaN    NaN    NaN  51.44  53.19  40.02  36.98  38.44  32.28   3.95  ...   \n",
       "1    NaN    NaN    NaN    NaN    NaN    NaN    NaN    NaN    NaN    NaN  ...   \n",
       "2    NaN    NaN    NaN    NaN    NaN    NaN    NaN    NaN    NaN    NaN  ...   \n",
       "3    NaN    NaN    NaN  53.73  52.17  39.88  39.55  40.50  38.07  32.01  ...   \n",
       "4  18.77  32.96  58.63  50.24  56.38  50.88  48.92  52.08  49.95  43.76  ...   \n",
       "\n",
       "   X1940  X1944  X1948  X1952  X1956  X1960  X1964  X1968  X1972  X1976  \n",
       "0  14.34  18.20  19.04  35.02  39.39  41.75   69.5   14.0   72.4  43.48  \n",
       "1    NaN    NaN    NaN    NaN    NaN  50.94   34.1   45.3   58.1  62.91  \n",
       "2  36.01  40.90  43.82  58.35  60.99  55.52   50.4   54.8   64.7  58.62  \n",
       "3  20.87  29.84  21.02  43.76  45.82  43.06   43.9   30.8   68.9  34.97  \n",
       "4  41.35  42.99  47.14  56.39  55.40  50.10   40.9   47.8   55.0  50.89  \n",
       "\n",
       "[5 rows x 31 columns]"
      ]
     },
     "execution_count": 8,
     "metadata": {},
     "output_type": "execute_result"
    }
   ],
   "source": [
    "df.head()"
   ]
  },
  {
   "cell_type": "code",
   "execution_count": 9,
   "id": "f729e894-9b8a-4ba2-8510-cd5bfb41f87f",
   "metadata": {},
   "outputs": [
    {
     "name": "stdout",
     "output_type": "stream",
     "text": [
      "<class 'pandas.core.frame.DataFrame'>\n",
      "RangeIndex: 50 entries, 0 to 49\n",
      "Data columns (total 31 columns):\n",
      " #   Column  Non-Null Count  Dtype  \n",
      "---  ------  --------------  -----  \n",
      " 0   X1856   20 non-null     float64\n",
      " 1   X1860   23 non-null     float64\n",
      " 2   X1864   25 non-null     float64\n",
      " 3   X1868   33 non-null     float64\n",
      " 4   X1872   37 non-null     float64\n",
      " 5   X1876   37 non-null     float64\n",
      " 6   X1880   38 non-null     float64\n",
      " 7   X1884   38 non-null     float64\n",
      " 8   X1888   38 non-null     float64\n",
      " 9   X1892   42 non-null     float64\n",
      " 10  X1896   44 non-null     float64\n",
      " 11  X1900   44 non-null     float64\n",
      " 12  X1904   44 non-null     float64\n",
      " 13  X1908   45 non-null     float64\n",
      " 14  X1912   47 non-null     float64\n",
      " 15  X1916   48 non-null     float64\n",
      " 16  X1920   48 non-null     float64\n",
      " 17  X1924   48 non-null     float64\n",
      " 18  X1928   48 non-null     float64\n",
      " 19  X1932   48 non-null     float64\n",
      " 20  X1936   48 non-null     float64\n",
      " 21  X1940   48 non-null     float64\n",
      " 22  X1944   48 non-null     float64\n",
      " 23  X1948   48 non-null     float64\n",
      " 24  X1952   48 non-null     float64\n",
      " 25  X1956   48 non-null     float64\n",
      " 26  X1960   50 non-null     float64\n",
      " 27  X1964   50 non-null     float64\n",
      " 28  X1968   50 non-null     float64\n",
      " 29  X1972   50 non-null     float64\n",
      " 30  X1976   50 non-null     float64\n",
      "dtypes: float64(31)\n",
      "memory usage: 12.2 KB\n"
     ]
    }
   ],
   "source": [
    "df.info()"
   ]
  },
  {
   "cell_type": "code",
   "execution_count": 12,
   "id": "40d235da-4848-4ee7-8f4b-4e51a62c7496",
   "metadata": {},
   "outputs": [],
   "source": [
    "from sklearn.cluster import AgglomerativeClustering"
   ]
  },
  {
   "cell_type": "code",
   "execution_count": 24,
   "id": "c2d54530-2c51-4586-ac2e-028dfcccb413",
   "metadata": {},
   "outputs": [],
   "source": [
    "df= df.dropna()"
   ]
  },
  {
   "cell_type": "code",
   "execution_count": null,
   "id": "f74e8f58-e548-448e-95a2-be5c02049fa5",
   "metadata": {},
   "outputs": [],
   "source": []
  },
  {
   "cell_type": "code",
   "execution_count": null,
   "id": "a9436379-3947-4d8e-92f8-9cedb21ec8c3",
   "metadata": {},
   "outputs": [],
   "source": []
  },
  {
   "cell_type": "code",
   "execution_count": null,
   "id": "3dda7e1d-34fb-4fd2-a8a0-88d67f82d886",
   "metadata": {},
   "outputs": [],
   "source": []
  },
  {
   "cell_type": "code",
   "execution_count": 25,
   "id": "6b541aa0-7aab-4d56-b4e2-5b003546f467",
   "metadata": {},
   "outputs": [],
   "source": [
    "model = AgglomerativeClustering(n_clusters=4)"
   ]
  },
  {
   "cell_type": "code",
   "execution_count": 26,
   "id": "58b8779a-1fd0-471a-a2a6-5ee18b05fe9b",
   "metadata": {},
   "outputs": [],
   "source": [
    "clusters = model.fit_predict(df)"
   ]
  },
  {
   "cell_type": "code",
   "execution_count": 27,
   "id": "38d11b19-5dc2-445a-9cac-53aad6098c58",
   "metadata": {},
   "outputs": [
    {
     "data": {
      "text/plain": [
       "array([0, 1, 0, 1, 1, 1, 0, 1, 0, 3, 1, 1, 1, 1, 1, 1, 3, 2, 1])"
      ]
     },
     "execution_count": 27,
     "metadata": {},
     "output_type": "execute_result"
    }
   ],
   "source": [
    "clusters"
   ]
  },
  {
   "cell_type": "code",
   "execution_count": 30,
   "id": "9ed4455c-7275-4a88-955e-ec6bc60e0134",
   "metadata": {},
   "outputs": [],
   "source": [
    "from scipy.cluster.hierarchy import dendrogram\n",
    "from scipy.cluster import hierarchy"
   ]
  },
  {
   "cell_type": "code",
   "execution_count": 31,
   "id": "82ab826a-e719-4adb-86b7-b944b1b65daa",
   "metadata": {},
   "outputs": [],
   "source": [
    "linkage_matrix = hierarchy.linkage(model.children_)"
   ]
  },
  {
   "cell_type": "code",
   "execution_count": 32,
   "id": "73704977-ad10-40b8-8c82-e2ec62f1b0f9",
   "metadata": {},
   "outputs": [
    {
     "data": {
      "image/png": "[encoded data removed]",
      "text/plain": [
       "<Figure size 640x480 with 1 Axes>"
      ]
     },
     "metadata": {},
     "output_type": "display_data"
    }
   ],
   "source": [
    "dn = hierarchy.dendrogram(linkage_matrix)"
   ]
  },
  {
   "cell_type": "code",
   "execution_count": null,
   "id": "07cdd714-d99c-4b94-b402-95ce91e2ca03",
   "metadata": {},
   "outputs": [],
   "source": []
  }
 ],
 "metadata": {
  "kernelspec": {
   "display_name": "Python 3 (ipykernel)",
   "language": "python",
   "name": "python3"
  },
  "language_info": {
   "codemirror_mode": {
    "name": "ipython",
    "version": 3
   },
   "file_extension": ".py",
   "mimetype": "text/x-python",
   "name": "python",
   "nbconvert_exporter": "python",
   "pygments_lexer": "ipython3",
   "version": "3.11.8"
  }
 },
 "nbformat": 4,
 "nbformat_minor": 5
}
