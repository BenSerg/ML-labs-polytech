{
 "cells": [
  {
   "cell_type": "code",
   "id": "initial_id",
   "metadata": {
    "collapsed": true,
    "jupyter": {
     "outputs_hidden": true
    },
    "ExecuteTime": {
     "end_time": "2024-04-11T20:26:39.906060Z",
     "start_time": "2024-04-11T20:26:39.904262Z"
    }
   },
   "source": [
    "import numpy as np\n",
    "import pandas as pd\n",
    "import matplotlib.pyplot as plt\n",
    "import seaborn as sns"
   ],
   "outputs": [],
   "execution_count": 85
  },
  {
   "cell_type": "code",
   "id": "101e0ad9c45b664c",
   "metadata": {
    "ExecuteTime": {
     "end_time": "2024-04-11T20:26:39.915753Z",
     "start_time": "2024-04-11T20:26:39.913984Z"
    }
   },
   "source": [
    "def get_lambda(i):\n",
    "    return 10 ** (-3 + 0.2 * i)"
   ],
   "outputs": [],
   "execution_count": 86
  },
  {
   "cell_type": "code",
   "id": "3dd35dfc8189797e",
   "metadata": {
    "ExecuteTime": {
     "end_time": "2024-04-11T20:26:39.920055Z",
     "start_time": "2024-04-11T20:26:39.916397Z"
    }
   },
   "source": [
    "df = pd.read_csv('data/longley.csv')"
   ],
   "outputs": [],
   "execution_count": 87
  },
  {
   "cell_type": "code",
   "id": "be353bc891667750",
   "metadata": {
    "ExecuteTime": {
     "end_time": "2024-04-11T20:26:39.926805Z",
     "start_time": "2024-04-11T20:26:39.920715Z"
    }
   },
   "source": [
    "df.head()"
   ],
   "outputs": [
    {
     "data": {
      "text/plain": [
       "   GNP.deflator      GNP  Unemployed  Armed.Forces  Population  Year  Employed\n",
       "0          83.0  234.289       235.6         159.0     107.608  1947    60.323\n",
       "1          88.5  259.426       232.5         145.6     108.632  1948    61.122\n",
       "2          88.2  258.054       368.2         161.6     109.773  1949    60.171\n",
       "3          89.5  284.599       335.1         165.0     110.929  1950    61.187\n",
       "4          96.2  328.975       209.9         309.9     112.075  1951    63.221"
      ],
      "text/html": [
       "<div>\n",
       "<style scoped>\n",
       "    .dataframe tbody tr th:only-of-type {\n",
       "        vertical-align: middle;\n",
       "    }\n",
       "\n",
       "    .dataframe tbody tr th {\n",
       "        vertical-align: top;\n",
       "    }\n",
       "\n",
       "    .dataframe thead th {\n",
       "        text-align: right;\n",
       "    }\n",
       "</style>\n",
       "<table border=\"1\" class=\"dataframe\">\n",
       "  <thead>\n",
       "    <tr style=\"text-align: right;\">\n",
       "      <th></th>\n",
       "      <th>GNP.deflator</th>\n",
       "      <th>GNP</th>\n",
       "      <th>Unemployed</th>\n",
       "      <th>Armed.Forces</th>\n",
       "      <th>Population</th>\n",
       "      <th>Year</th>\n",
       "      <th>Employed</th>\n",
       "    </tr>\n",
       "  </thead>\n",
       "  <tbody>\n",
       "    <tr>\n",
       "      <th>0</th>\n",
       "      <td>83.0</td>\n",
       "      <td>234.289</td>\n",
       "      <td>235.6</td>\n",
       "      <td>159.0</td>\n",
       "      <td>107.608</td>\n",
       "      <td>1947</td>\n",
       "      <td>60.323</td>\n",
       "    </tr>\n",
       "    <tr>\n",
       "      <th>1</th>\n",
       "      <td>88.5</td>\n",
       "      <td>259.426</td>\n",
       "      <td>232.5</td>\n",
       "      <td>145.6</td>\n",
       "      <td>108.632</td>\n",
       "      <td>1948</td>\n",
       "      <td>61.122</td>\n",
       "    </tr>\n",
       "    <tr>\n",
       "      <th>2</th>\n",
       "      <td>88.2</td>\n",
       "      <td>258.054</td>\n",
       "      <td>368.2</td>\n",
       "      <td>161.6</td>\n",
       "      <td>109.773</td>\n",
       "      <td>1949</td>\n",
       "      <td>60.171</td>\n",
       "    </tr>\n",
       "    <tr>\n",
       "      <th>3</th>\n",
       "      <td>89.5</td>\n",
       "      <td>284.599</td>\n",
       "      <td>335.1</td>\n",
       "      <td>165.0</td>\n",
       "      <td>110.929</td>\n",
       "      <td>1950</td>\n",
       "      <td>61.187</td>\n",
       "    </tr>\n",
       "    <tr>\n",
       "      <th>4</th>\n",
       "      <td>96.2</td>\n",
       "      <td>328.975</td>\n",
       "      <td>209.9</td>\n",
       "      <td>309.9</td>\n",
       "      <td>112.075</td>\n",
       "      <td>1951</td>\n",
       "      <td>63.221</td>\n",
       "    </tr>\n",
       "  </tbody>\n",
       "</table>\n",
       "</div>"
      ]
     },
     "execution_count": 88,
     "metadata": {},
     "output_type": "execute_result"
    }
   ],
   "execution_count": 88
  },
  {
   "cell_type": "code",
   "id": "69880758888b6077",
   "metadata": {
    "ExecuteTime": {
     "end_time": "2024-04-11T20:26:39.929762Z",
     "start_time": "2024-04-11T20:26:39.927491Z"
    }
   },
   "source": [
    "df = df.drop('Population', axis=1)"
   ],
   "outputs": [],
   "execution_count": 89
  },
  {
   "cell_type": "code",
   "id": "4f4e122e99d83b77",
   "metadata": {
    "ExecuteTime": {
     "end_time": "2024-04-11T20:26:39.944540Z",
     "start_time": "2024-04-11T20:26:39.940008Z"
    }
   },
   "source": [
    "df.head()"
   ],
   "outputs": [
    {
     "data": {
      "text/plain": [
       "   GNP.deflator      GNP  Unemployed  Armed.Forces  Year  Employed\n",
       "0          83.0  234.289       235.6         159.0  1947    60.323\n",
       "1          88.5  259.426       232.5         145.6  1948    61.122\n",
       "2          88.2  258.054       368.2         161.6  1949    60.171\n",
       "3          89.5  284.599       335.1         165.0  1950    61.187\n",
       "4          96.2  328.975       209.9         309.9  1951    63.221"
      ],
      "text/html": [
       "<div>\n",
       "<style scoped>\n",
       "    .dataframe tbody tr th:only-of-type {\n",
       "        vertical-align: middle;\n",
       "    }\n",
       "\n",
       "    .dataframe tbody tr th {\n",
       "        vertical-align: top;\n",
       "    }\n",
       "\n",
       "    .dataframe thead th {\n",
       "        text-align: right;\n",
       "    }\n",
       "</style>\n",
       "<table border=\"1\" class=\"dataframe\">\n",
       "  <thead>\n",
       "    <tr style=\"text-align: right;\">\n",
       "      <th></th>\n",
       "      <th>GNP.deflator</th>\n",
       "      <th>GNP</th>\n",
       "      <th>Unemployed</th>\n",
       "      <th>Armed.Forces</th>\n",
       "      <th>Year</th>\n",
       "      <th>Employed</th>\n",
       "    </tr>\n",
       "  </thead>\n",
       "  <tbody>\n",
       "    <tr>\n",
       "      <th>0</th>\n",
       "      <td>83.0</td>\n",
       "      <td>234.289</td>\n",
       "      <td>235.6</td>\n",
       "      <td>159.0</td>\n",
       "      <td>1947</td>\n",
       "      <td>60.323</td>\n",
       "    </tr>\n",
       "    <tr>\n",
       "      <th>1</th>\n",
       "      <td>88.5</td>\n",
       "      <td>259.426</td>\n",
       "      <td>232.5</td>\n",
       "      <td>145.6</td>\n",
       "      <td>1948</td>\n",
       "      <td>61.122</td>\n",
       "    </tr>\n",
       "    <tr>\n",
       "      <th>2</th>\n",
       "      <td>88.2</td>\n",
       "      <td>258.054</td>\n",
       "      <td>368.2</td>\n",
       "      <td>161.6</td>\n",
       "      <td>1949</td>\n",
       "      <td>60.171</td>\n",
       "    </tr>\n",
       "    <tr>\n",
       "      <th>3</th>\n",
       "      <td>89.5</td>\n",
       "      <td>284.599</td>\n",
       "      <td>335.1</td>\n",
       "      <td>165.0</td>\n",
       "      <td>1950</td>\n",
       "      <td>61.187</td>\n",
       "    </tr>\n",
       "    <tr>\n",
       "      <th>4</th>\n",
       "      <td>96.2</td>\n",
       "      <td>328.975</td>\n",
       "      <td>209.9</td>\n",
       "      <td>309.9</td>\n",
       "      <td>1951</td>\n",
       "      <td>63.221</td>\n",
       "    </tr>\n",
       "  </tbody>\n",
       "</table>\n",
       "</div>"
      ]
     },
     "execution_count": 90,
     "metadata": {},
     "output_type": "execute_result"
    }
   ],
   "execution_count": 90
  },
  {
   "cell_type": "code",
   "id": "df0b819afbc4cf5f",
   "metadata": {
    "ExecuteTime": {
     "end_time": "2024-04-11T20:26:39.948242Z",
     "start_time": "2024-04-11T20:26:39.945137Z"
    }
   },
   "source": [
    "from sklearn.model_selection import train_test_split\n",
    "X, y = df.drop('Employed', axis=1), df['Employed']"
   ],
   "outputs": [],
   "execution_count": 91
  },
  {
   "cell_type": "code",
   "id": "8114ccf3e43d2727",
   "metadata": {
    "ExecuteTime": {
     "end_time": "2024-04-11T20:26:39.952031Z",
     "start_time": "2024-04-11T20:26:39.948940Z"
    }
   },
   "source": [
    "X_train, X_test, y_train, y_test = train_test_split(X, y, test_size=0.5, random_state=42)"
   ],
   "outputs": [],
   "execution_count": 92
  },
  {
   "cell_type": "code",
   "id": "c993378512fb9a98",
   "metadata": {
    "ExecuteTime": {
     "end_time": "2024-04-11T20:26:39.955117Z",
     "start_time": "2024-04-11T20:26:39.952790Z"
    }
   },
   "source": [
    "from sklearn.linear_model import Ridge, LinearRegression\n",
    "from sklearn.metrics import mean_squared_error"
   ],
   "outputs": [],
   "execution_count": 93
  },
  {
   "cell_type": "code",
   "id": "4bb181478712ab56",
   "metadata": {
    "ExecuteTime": {
     "end_time": "2024-04-11T20:26:40.006851Z",
     "start_time": "2024-04-11T20:26:39.955725Z"
    }
   },
   "source": [
    "scores_test = []\n",
    "scores_train = []\n",
    "for i in range(26):\n",
    "    model = Ridge(alpha=get_lambda(i))\n",
    "    linear = LinearRegression()\n",
    "    model.fit(X_train, y_train)\n",
    "    y_pred = model.predict(X_test)\n",
    "    scores_train.append(mean_squared_error(y_train, model.predict(X_train)))\n",
    "    scores_test.append(mean_squared_error(y_test, y_pred))"
   ],
   "outputs": [],
   "execution_count": 94
  },
  {
   "cell_type": "code",
   "id": "b76b59b124e1add3",
   "metadata": {
    "ExecuteTime": {
     "end_time": "2024-04-11T20:26:40.126027Z",
     "start_time": "2024-04-11T20:26:40.007551Z"
    }
   },
   "source": "plt.plot([get_lambda(i) for i in range(26)],scores_test, color='green', marker='o')\n",
   "outputs": [
    {
     "data": {
      "text/plain": [
       "[<matplotlib.lines.Line2D at 0x78ec3ae9a710>]"
      ]
     },
     "execution_count": 95,
     "metadata": {},
     "output_type": "execute_result"
    },
    {
     "data": {
      "text/plain": [
       "<Figure size 640x480 with 1 Axes>"
      ],
      "image/png": "[encoded data removed]"
     },
     "metadata": {},
     "output_type": "display_data"
    }
   ],
   "execution_count": 95
  },
  {
   "cell_type": "code",
   "id": "945502ef964fc0e3",
   "metadata": {
    "ExecuteTime": {
     "end_time": "2024-04-11T20:26:40.238001Z",
     "start_time": "2024-04-11T20:26:40.127004Z"
    }
   },
   "source": "plt.plot([get_lambda(i) for i in range(26)],scores_train,  color='blue', marker='o')",
   "outputs": [
    {
     "data": {
      "text/plain": [
       "[<matplotlib.lines.Line2D at 0x78ec36cdc0d0>]"
      ]
     },
     "execution_count": 96,
     "metadata": {},
     "output_type": "execute_result"
    },
    {
     "data": {
      "text/plain": [
       "<Figure size 640x480 with 1 Axes>"
      ],
      "image/png": "[encoded data removed]"
     },
     "metadata": {},
     "output_type": "display_data"
    }
   ],
   "execution_count": 96
  },
  {
   "metadata": {
    "ExecuteTime": {
     "end_time": "2024-04-11T20:26:40.244822Z",
     "start_time": "2024-04-11T20:26:40.238560Z"
    }
   },
   "cell_type": "code",
   "source": [
    "model = LinearRegression()\n",
    "model.fit(X_train, y_train)\n",
    "mean_squared_error(y_test, model.predict(X_test)), mean_squared_error(y_train, model.predict(X_train))"
   ],
   "id": "98ccec063197a16e",
   "outputs": [
    {
     "data": {
      "text/plain": [
       "(0.20886527605278238, 0.005802099829833704)"
      ]
     },
     "execution_count": 97,
     "metadata": {},
     "output_type": "execute_result"
    }
   ],
   "execution_count": 97
  },
  {
   "metadata": {
    "ExecuteTime": {
     "end_time": "2024-04-11T20:26:40.246756Z",
     "start_time": "2024-04-11T20:26:40.245474Z"
    }
   },
   "cell_type": "code",
   "source": "",
   "id": "8d6be3cb5db5e1fb",
   "outputs": [],
   "execution_count": 97
  }
 ],
 "metadata": {
  "kernelspec": {
   "display_name": "Python 3 (ipykernel)",
   "language": "python",
   "name": "python3"
  },
  "language_info": {
   "codemirror_mode": {
    "name": "ipython",
    "version": 3
   },
   "file_extension": ".py",
   "mimetype": "text/x-python",
   "name": "python",
   "nbconvert_exporter": "python",
   "pygments_lexer": "ipython3",
   "version": "3.11.8"
  }
 },
 "nbformat": 4,
 "nbformat_minor": 5
}
