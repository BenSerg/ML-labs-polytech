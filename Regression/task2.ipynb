{
 "cells": [
  {
   "cell_type": "code",
   "id": "initial_id",
   "metadata": {
    "collapsed": true,
    "ExecuteTime": {
     "end_time": "2024-04-09T14:44:52.300710Z",
     "start_time": "2024-04-09T14:44:52.298180Z"
    }
   },
   "source": [
    "import itertools\n",
    "\n",
    "import numpy as np\n",
    "import matplotlib.pyplot as plt\n",
    "import pandas as pd\n",
    "import seaborn as sns\n",
    "from sklearn.linear_model import LinearRegression"
   ],
   "outputs": [],
   "execution_count": 99
  },
  {
   "metadata": {
    "ExecuteTime": {
     "end_time": "2024-04-09T14:44:52.306428Z",
     "start_time": "2024-04-09T14:44:52.301629Z"
    }
   },
   "cell_type": "code",
   "source": "df = pd.read_csv('data/reglab.txt', sep='\\t')",
   "id": "921c58a667ba09a9",
   "outputs": [],
   "execution_count": 100
  },
  {
   "metadata": {
    "ExecuteTime": {
     "end_time": "2024-04-09T14:44:52.312125Z",
     "start_time": "2024-04-09T14:44:52.307085Z"
    }
   },
   "cell_type": "code",
   "source": "df.head()",
   "id": "e794385e59380efa",
   "outputs": [
    {
     "data": {
      "text/plain": [
       "          y        x1        x2        x3        x4\n",
       "0  3.469720  0.233628  0.835549  0.102965  0.457428\n",
       "1  0.768448  0.117920  0.090544  0.258778  0.283951\n",
       "2  2.880374  0.091520  0.797592  0.198528  0.699287\n",
       "3  3.745485  0.876722  0.062935  0.615415  0.176058\n",
       "4  1.853966  0.207406  0.303490  0.775967  0.667351"
      ],
      "text/html": [
       "<div>\n",
       "<style scoped>\n",
       "    .dataframe tbody tr th:only-of-type {\n",
       "        vertical-align: middle;\n",
       "    }\n",
       "\n",
       "    .dataframe tbody tr th {\n",
       "        vertical-align: top;\n",
       "    }\n",
       "\n",
       "    .dataframe thead th {\n",
       "        text-align: right;\n",
       "    }\n",
       "</style>\n",
       "<table border=\"1\" class=\"dataframe\">\n",
       "  <thead>\n",
       "    <tr style=\"text-align: right;\">\n",
       "      <th></th>\n",
       "      <th>y</th>\n",
       "      <th>x1</th>\n",
       "      <th>x2</th>\n",
       "      <th>x3</th>\n",
       "      <th>x4</th>\n",
       "    </tr>\n",
       "  </thead>\n",
       "  <tbody>\n",
       "    <tr>\n",
       "      <th>0</th>\n",
       "      <td>3.469720</td>\n",
       "      <td>0.233628</td>\n",
       "      <td>0.835549</td>\n",
       "      <td>0.102965</td>\n",
       "      <td>0.457428</td>\n",
       "    </tr>\n",
       "    <tr>\n",
       "      <th>1</th>\n",
       "      <td>0.768448</td>\n",
       "      <td>0.117920</td>\n",
       "      <td>0.090544</td>\n",
       "      <td>0.258778</td>\n",
       "      <td>0.283951</td>\n",
       "    </tr>\n",
       "    <tr>\n",
       "      <th>2</th>\n",
       "      <td>2.880374</td>\n",
       "      <td>0.091520</td>\n",
       "      <td>0.797592</td>\n",
       "      <td>0.198528</td>\n",
       "      <td>0.699287</td>\n",
       "    </tr>\n",
       "    <tr>\n",
       "      <th>3</th>\n",
       "      <td>3.745485</td>\n",
       "      <td>0.876722</td>\n",
       "      <td>0.062935</td>\n",
       "      <td>0.615415</td>\n",
       "      <td>0.176058</td>\n",
       "    </tr>\n",
       "    <tr>\n",
       "      <th>4</th>\n",
       "      <td>1.853966</td>\n",
       "      <td>0.207406</td>\n",
       "      <td>0.303490</td>\n",
       "      <td>0.775967</td>\n",
       "      <td>0.667351</td>\n",
       "    </tr>\n",
       "  </tbody>\n",
       "</table>\n",
       "</div>"
      ]
     },
     "execution_count": 101,
     "metadata": {},
     "output_type": "execute_result"
    }
   ],
   "execution_count": 101
  },
  {
   "metadata": {
    "ExecuteTime": {
     "end_time": "2024-04-09T14:44:52.315257Z",
     "start_time": "2024-04-09T14:44:52.313041Z"
    }
   },
   "cell_type": "code",
   "source": [
    "X, y = df.drop('y', axis=1), df['y']\n",
    "def compute_rss(y_true, y_pred):\n",
    "    return np.sum((y_true - y_pred) ** 2)"
   ],
   "id": "e2f72b7926fe758a",
   "outputs": [],
   "execution_count": 102
  },
  {
   "metadata": {
    "ExecuteTime": {
     "end_time": "2024-04-09T14:44:52.348834Z",
     "start_time": "2024-04-09T14:44:52.315787Z"
    }
   },
   "cell_type": "code",
   "source": [
    "best_subset = None\n",
    "best_rss = np.inf\n",
    "for k in range(1, X.shape[1] + 1):\n",
    "    for subset in itertools.combinations(X.columns, k):\n",
    "        model = LinearRegression()\n",
    "        model.fit(X[list(subset)], y)\n",
    "        rss = compute_rss(y, model.predict(X[list(subset)]))\n",
    "        if rss < best_rss:\n",
    "           best_rss = rss\n",
    "           best_subset = subset\n",
    "best_subset, best_rss"
   ],
   "id": "4c24dfedcca433a3",
   "outputs": [
    {
     "data": {
      "text/plain": [
       "(('x1', 'x2', 'x3', 'x4'), 0.19286354148384216)"
      ]
     },
     "execution_count": 103,
     "metadata": {},
     "output_type": "execute_result"
    }
   ],
   "execution_count": 103
  },
  {
   "metadata": {
    "ExecuteTime": {
     "end_time": "2024-04-09T14:44:52.350763Z",
     "start_time": "2024-04-09T14:44:52.349417Z"
    }
   },
   "cell_type": "code",
   "source": "",
   "id": "1a73de540b309669",
   "outputs": [],
   "execution_count": 103
  }
 ],
 "metadata": {
  "kernelspec": {
   "display_name": "Python 3",
   "language": "python",
   "name": "python3"
  },
  "language_info": {
   "codemirror_mode": {
    "name": "ipython",
    "version": 2
   },
   "file_extension": ".py",
   "mimetype": "text/x-python",
   "name": "python",
   "nbconvert_exporter": "python",
   "pygments_lexer": "ipython2",
   "version": "2.7.6"
  }
 },
 "nbformat": 4,
 "nbformat_minor": 5
}
